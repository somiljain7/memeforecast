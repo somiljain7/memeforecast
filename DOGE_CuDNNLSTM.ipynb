{
  "nbformat": 4,
  "nbformat_minor": 0,
  "metadata": {
    "colab": {
      "name": "DOGE-CuDNNLSTM.ipynb",
      "provenance": [],
      "collapsed_sections": []
    },
    "kernelspec": {
      "name": "python3",
      "display_name": "Python 3"
    },
    "language_info": {
      "name": "python"
    },
    "accelerator": "GPU"
  },
  "cells": [
    {
      "cell_type": "code",
      "metadata": {
        "colab": {
          "base_uri": "https://localhost:8080/"
        },
        "id": "tpYY2n8cW2RA",
        "outputId": "1fb734e7-1198-4ce9-c980-6cc3fd87f9ea"
      },
      "source": [
        "!pip install tensorflow"
      ],
      "execution_count": 23,
      "outputs": [
        {
          "output_type": "stream",
          "text": [
            "Requirement already satisfied: tensorflow in /usr/local/lib/python3.7/dist-packages (2.4.1)\n",
            "Requirement already satisfied: wheel~=0.35 in /usr/local/lib/python3.7/dist-packages (from tensorflow) (0.36.2)\n",
            "Requirement already satisfied: google-pasta~=0.2 in /usr/local/lib/python3.7/dist-packages (from tensorflow) (0.2.0)\n",
            "Requirement already satisfied: h5py~=2.10.0 in /usr/local/lib/python3.7/dist-packages (from tensorflow) (2.10.0)\n",
            "Requirement already satisfied: numpy~=1.19.2 in /usr/local/lib/python3.7/dist-packages (from tensorflow) (1.19.5)\n",
            "Requirement already satisfied: tensorflow-estimator<2.5.0,>=2.4.0 in /usr/local/lib/python3.7/dist-packages (from tensorflow) (2.4.0)\n",
            "Requirement already satisfied: flatbuffers~=1.12.0 in /usr/local/lib/python3.7/dist-packages (from tensorflow) (1.12)\n",
            "Requirement already satisfied: grpcio~=1.32.0 in /usr/local/lib/python3.7/dist-packages (from tensorflow) (1.32.0)\n",
            "Requirement already satisfied: astunparse~=1.6.3 in /usr/local/lib/python3.7/dist-packages (from tensorflow) (1.6.3)\n",
            "Requirement already satisfied: termcolor~=1.1.0 in /usr/local/lib/python3.7/dist-packages (from tensorflow) (1.1.0)\n",
            "Requirement already satisfied: opt-einsum~=3.3.0 in /usr/local/lib/python3.7/dist-packages (from tensorflow) (3.3.0)\n",
            "Requirement already satisfied: absl-py~=0.10 in /usr/local/lib/python3.7/dist-packages (from tensorflow) (0.12.0)\n",
            "Requirement already satisfied: protobuf>=3.9.2 in /usr/local/lib/python3.7/dist-packages (from tensorflow) (3.12.4)\n",
            "Requirement already satisfied: wrapt~=1.12.1 in /usr/local/lib/python3.7/dist-packages (from tensorflow) (1.12.1)\n",
            "Requirement already satisfied: tensorboard~=2.4 in /usr/local/lib/python3.7/dist-packages (from tensorflow) (2.4.1)\n",
            "Requirement already satisfied: six~=1.15.0 in /usr/local/lib/python3.7/dist-packages (from tensorflow) (1.15.0)\n",
            "Requirement already satisfied: keras-preprocessing~=1.1.2 in /usr/local/lib/python3.7/dist-packages (from tensorflow) (1.1.2)\n",
            "Requirement already satisfied: typing-extensions~=3.7.4 in /usr/local/lib/python3.7/dist-packages (from tensorflow) (3.7.4.3)\n",
            "Requirement already satisfied: gast==0.3.3 in /usr/local/lib/python3.7/dist-packages (from tensorflow) (0.3.3)\n",
            "Requirement already satisfied: setuptools in /usr/local/lib/python3.7/dist-packages (from protobuf>=3.9.2->tensorflow) (56.1.0)\n",
            "Requirement already satisfied: werkzeug>=0.11.15 in /usr/local/lib/python3.7/dist-packages (from tensorboard~=2.4->tensorflow) (2.0.0)\n",
            "Requirement already satisfied: google-auth<2,>=1.6.3 in /usr/local/lib/python3.7/dist-packages (from tensorboard~=2.4->tensorflow) (1.30.0)\n",
            "Requirement already satisfied: markdown>=2.6.8 in /usr/local/lib/python3.7/dist-packages (from tensorboard~=2.4->tensorflow) (3.3.4)\n",
            "Requirement already satisfied: tensorboard-plugin-wit>=1.6.0 in /usr/local/lib/python3.7/dist-packages (from tensorboard~=2.4->tensorflow) (1.8.0)\n",
            "Requirement already satisfied: google-auth-oauthlib<0.5,>=0.4.1 in /usr/local/lib/python3.7/dist-packages (from tensorboard~=2.4->tensorflow) (0.4.4)\n",
            "Requirement already satisfied: requests<3,>=2.21.0 in /usr/local/lib/python3.7/dist-packages (from tensorboard~=2.4->tensorflow) (2.23.0)\n",
            "Requirement already satisfied: rsa<5,>=3.1.4; python_version >= \"3.6\" in /usr/local/lib/python3.7/dist-packages (from google-auth<2,>=1.6.3->tensorboard~=2.4->tensorflow) (4.7.2)\n",
            "Requirement already satisfied: cachetools<5.0,>=2.0.0 in /usr/local/lib/python3.7/dist-packages (from google-auth<2,>=1.6.3->tensorboard~=2.4->tensorflow) (4.2.2)\n",
            "Requirement already satisfied: pyasn1-modules>=0.2.1 in /usr/local/lib/python3.7/dist-packages (from google-auth<2,>=1.6.3->tensorboard~=2.4->tensorflow) (0.2.8)\n",
            "Requirement already satisfied: importlib-metadata; python_version < \"3.8\" in /usr/local/lib/python3.7/dist-packages (from markdown>=2.6.8->tensorboard~=2.4->tensorflow) (4.0.1)\n",
            "Requirement already satisfied: requests-oauthlib>=0.7.0 in /usr/local/lib/python3.7/dist-packages (from google-auth-oauthlib<0.5,>=0.4.1->tensorboard~=2.4->tensorflow) (1.3.0)\n",
            "Requirement already satisfied: idna<3,>=2.5 in /usr/local/lib/python3.7/dist-packages (from requests<3,>=2.21.0->tensorboard~=2.4->tensorflow) (2.10)\n",
            "Requirement already satisfied: urllib3!=1.25.0,!=1.25.1,<1.26,>=1.21.1 in /usr/local/lib/python3.7/dist-packages (from requests<3,>=2.21.0->tensorboard~=2.4->tensorflow) (1.24.3)\n",
            "Requirement already satisfied: certifi>=2017.4.17 in /usr/local/lib/python3.7/dist-packages (from requests<3,>=2.21.0->tensorboard~=2.4->tensorflow) (2020.12.5)\n",
            "Requirement already satisfied: chardet<4,>=3.0.2 in /usr/local/lib/python3.7/dist-packages (from requests<3,>=2.21.0->tensorboard~=2.4->tensorflow) (3.0.4)\n",
            "Requirement already satisfied: pyasn1>=0.1.3 in /usr/local/lib/python3.7/dist-packages (from rsa<5,>=3.1.4; python_version >= \"3.6\"->google-auth<2,>=1.6.3->tensorboard~=2.4->tensorflow) (0.4.8)\n",
            "Requirement already satisfied: zipp>=0.5 in /usr/local/lib/python3.7/dist-packages (from importlib-metadata; python_version < \"3.8\"->markdown>=2.6.8->tensorboard~=2.4->tensorflow) (3.4.1)\n",
            "Requirement already satisfied: oauthlib>=3.0.0 in /usr/local/lib/python3.7/dist-packages (from requests-oauthlib>=0.7.0->google-auth-oauthlib<0.5,>=0.4.1->tensorboard~=2.4->tensorflow) (3.1.0)\n"
          ],
          "name": "stdout"
        }
      ]
    },
    {
      "cell_type": "code",
      "metadata": {
        "id": "dHJ8mQYRW3sL"
      },
      "source": [
        "import os \n",
        "import numpy as np\n",
        "import tensorflow as tf\n",
        "from tensorflow import keras\n",
        "import pandas as pd\n",
        "import seaborn as sns\n",
        "import matplotlib.pyplot as plt\n",
        "from matplotlib import rc\n",
        "from pylab import rcParams\n",
        "from sklearn.preprocessing import MinMaxScaler\n",
        "from tensorflow.keras.layers import Bidirectional, Dropout ,Activation , Dense , LSTM\n",
        "from tensorflow.python.keras.layers import CuDNNLSTM\n",
        "from tensorflow.keras.models import Sequential\n",
        "%matplotlib inline \n"
      ],
      "execution_count": 24,
      "outputs": []
    },
    {
      "cell_type": "code",
      "metadata": {
        "id": "KXoW1p3tXyT8"
      },
      "source": [
        "sns.set(style='whitegrid',palette='muted',font_scale=1.5)\n",
        "rcParams['figure.figsize']=14,8\n",
        "RANDOM_SEED = 42\n",
        "np.random.seed(RANDOM_SEED)"
      ],
      "execution_count": 25,
      "outputs": []
    },
    {
      "cell_type": "code",
      "metadata": {
        "colab": {
          "resources": {
            "http://localhost:8080/nbextensions/google.colab/files.js": {
              "data": "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",
              "ok": true,
              "headers": [
                [
                  "content-type",
                  "application/javascript"
                ]
              ],
              "status": 200,
              "status_text": ""
            }
          },
          "base_uri": "https://localhost:8080/",
          "height": 73
        },
        "id": "iMib6ALqYTo2",
        "outputId": "c0dde50d-2bbd-454f-b92d-529b52fd62b9"
      },
      "source": [
        "from google.colab import files\n",
        "uploaded = files.upload()\n",
        "\n"
      ],
      "execution_count": 26,
      "outputs": [
        {
          "output_type": "display_data",
          "data": {
            "text/html": [
              "\n",
              "     <input type=\"file\" id=\"files-3299c059-3692-4f36-af20-72ea129bba75\" name=\"files[]\" multiple disabled\n",
              "        style=\"border:none\" />\n",
              "     <output id=\"result-3299c059-3692-4f36-af20-72ea129bba75\">\n",
              "      Upload widget is only available when the cell has been executed in the\n",
              "      current browser session. Please rerun this cell to enable.\n",
              "      </output>\n",
              "      <script src=\"/nbextensions/google.colab/files.js\"></script> "
            ],
            "text/plain": [
              "<IPython.core.display.HTML object>"
            ]
          },
          "metadata": {
            "tags": []
          }
        },
        {
          "output_type": "stream",
          "text": [
            "Saving DOGE-USD-late.csv to DOGE-USD-late (1).csv\n"
          ],
          "name": "stdout"
        }
      ]
    },
    {
      "cell_type": "code",
      "metadata": {
        "id": "5kIiPY83d2qG"
      },
      "source": [
        "df = pd.read_csv('DOGE-USD-late.csv', parse_dates=['Date']) "
      ],
      "execution_count": 27,
      "outputs": []
    },
    {
      "cell_type": "code",
      "metadata": {
        "id": "Kf1BaX5SYTro"
      },
      "source": [
        "df=df.sort_values('Date')"
      ],
      "execution_count": 28,
      "outputs": []
    },
    {
      "cell_type": "code",
      "metadata": {
        "colab": {
          "base_uri": "https://localhost:8080/",
          "height": 402
        },
        "id": "lxhh_M3qYTup",
        "outputId": "97d1fc98-2df7-4be9-9279-caaa906a9de5"
      },
      "source": [
        "df"
      ],
      "execution_count": 29,
      "outputs": [
        {
          "output_type": "execute_result",
          "data": {
            "text/html": [
              "<div>\n",
              "<style scoped>\n",
              "    .dataframe tbody tr th:only-of-type {\n",
              "        vertical-align: middle;\n",
              "    }\n",
              "\n",
              "    .dataframe tbody tr th {\n",
              "        vertical-align: top;\n",
              "    }\n",
              "\n",
              "    .dataframe thead th {\n",
              "        text-align: right;\n",
              "    }\n",
              "</style>\n",
              "<table border=\"1\" class=\"dataframe\">\n",
              "  <thead>\n",
              "    <tr style=\"text-align: right;\">\n",
              "      <th></th>\n",
              "      <th>Date</th>\n",
              "      <th>Open</th>\n",
              "      <th>High</th>\n",
              "      <th>Low</th>\n",
              "      <th>Close</th>\n",
              "      <th>Adj Close</th>\n",
              "      <th>Volume</th>\n",
              "    </tr>\n",
              "  </thead>\n",
              "  <tbody>\n",
              "    <tr>\n",
              "      <th>0</th>\n",
              "      <td>2020-05-01</td>\n",
              "      <td>0.002444</td>\n",
              "      <td>0.002559</td>\n",
              "      <td>0.002441</td>\n",
              "      <td>0.002494</td>\n",
              "      <td>0.002494</td>\n",
              "      <td>2.828870e+08</td>\n",
              "    </tr>\n",
              "    <tr>\n",
              "      <th>1</th>\n",
              "      <td>2020-05-02</td>\n",
              "      <td>0.002495</td>\n",
              "      <td>0.002553</td>\n",
              "      <td>0.002473</td>\n",
              "      <td>0.002549</td>\n",
              "      <td>0.002549</td>\n",
              "      <td>2.691553e+08</td>\n",
              "    </tr>\n",
              "    <tr>\n",
              "      <th>2</th>\n",
              "      <td>2020-05-03</td>\n",
              "      <td>0.002548</td>\n",
              "      <td>0.002583</td>\n",
              "      <td>0.002480</td>\n",
              "      <td>0.002510</td>\n",
              "      <td>0.002510</td>\n",
              "      <td>2.651569e+08</td>\n",
              "    </tr>\n",
              "    <tr>\n",
              "      <th>3</th>\n",
              "      <td>2020-05-04</td>\n",
              "      <td>0.002511</td>\n",
              "      <td>0.002519</td>\n",
              "      <td>0.002389</td>\n",
              "      <td>0.002481</td>\n",
              "      <td>0.002481</td>\n",
              "      <td>2.614543e+08</td>\n",
              "    </tr>\n",
              "    <tr>\n",
              "      <th>4</th>\n",
              "      <td>2020-05-05</td>\n",
              "      <td>0.002481</td>\n",
              "      <td>0.002521</td>\n",
              "      <td>0.002449</td>\n",
              "      <td>0.002484</td>\n",
              "      <td>0.002484</td>\n",
              "      <td>2.458611e+08</td>\n",
              "    </tr>\n",
              "    <tr>\n",
              "      <th>...</th>\n",
              "      <td>...</td>\n",
              "      <td>...</td>\n",
              "      <td>...</td>\n",
              "      <td>...</td>\n",
              "      <td>...</td>\n",
              "      <td>...</td>\n",
              "      <td>...</td>\n",
              "    </tr>\n",
              "    <tr>\n",
              "      <th>375</th>\n",
              "      <td>2021-05-11</td>\n",
              "      <td>0.450488</td>\n",
              "      <td>0.546651</td>\n",
              "      <td>0.445034</td>\n",
              "      <td>0.495231</td>\n",
              "      <td>0.495231</td>\n",
              "      <td>1.456698e+10</td>\n",
              "    </tr>\n",
              "    <tr>\n",
              "      <th>376</th>\n",
              "      <td>2021-05-12</td>\n",
              "      <td>0.493742</td>\n",
              "      <td>0.519975</td>\n",
              "      <td>0.385376</td>\n",
              "      <td>0.385376</td>\n",
              "      <td>0.385376</td>\n",
              "      <td>8.621338e+09</td>\n",
              "    </tr>\n",
              "    <tr>\n",
              "      <th>377</th>\n",
              "      <td>2021-05-13</td>\n",
              "      <td>0.392176</td>\n",
              "      <td>0.519461</td>\n",
              "      <td>0.357175</td>\n",
              "      <td>0.490374</td>\n",
              "      <td>0.490374</td>\n",
              "      <td>1.866317e+10</td>\n",
              "    </tr>\n",
              "    <tr>\n",
              "      <th>378</th>\n",
              "      <td>2021-05-14</td>\n",
              "      <td>0.487070</td>\n",
              "      <td>0.589690</td>\n",
              "      <td>0.464622</td>\n",
              "      <td>0.559604</td>\n",
              "      <td>0.559604</td>\n",
              "      <td>2.046618e+10</td>\n",
              "    </tr>\n",
              "    <tr>\n",
              "      <th>379</th>\n",
              "      <td>2021-05-15</td>\n",
              "      <td>0.556366</td>\n",
              "      <td>0.561477</td>\n",
              "      <td>0.506307</td>\n",
              "      <td>0.520853</td>\n",
              "      <td>0.520853</td>\n",
              "      <td>1.438274e+10</td>\n",
              "    </tr>\n",
              "  </tbody>\n",
              "</table>\n",
              "<p>380 rows × 7 columns</p>\n",
              "</div>"
            ],
            "text/plain": [
              "          Date      Open      High       Low     Close  Adj Close        Volume\n",
              "0   2020-05-01  0.002444  0.002559  0.002441  0.002494   0.002494  2.828870e+08\n",
              "1   2020-05-02  0.002495  0.002553  0.002473  0.002549   0.002549  2.691553e+08\n",
              "2   2020-05-03  0.002548  0.002583  0.002480  0.002510   0.002510  2.651569e+08\n",
              "3   2020-05-04  0.002511  0.002519  0.002389  0.002481   0.002481  2.614543e+08\n",
              "4   2020-05-05  0.002481  0.002521  0.002449  0.002484   0.002484  2.458611e+08\n",
              "..         ...       ...       ...       ...       ...        ...           ...\n",
              "375 2021-05-11  0.450488  0.546651  0.445034  0.495231   0.495231  1.456698e+10\n",
              "376 2021-05-12  0.493742  0.519975  0.385376  0.385376   0.385376  8.621338e+09\n",
              "377 2021-05-13  0.392176  0.519461  0.357175  0.490374   0.490374  1.866317e+10\n",
              "378 2021-05-14  0.487070  0.589690  0.464622  0.559604   0.559604  2.046618e+10\n",
              "379 2021-05-15  0.556366  0.561477  0.506307  0.520853   0.520853  1.438274e+10\n",
              "\n",
              "[380 rows x 7 columns]"
            ]
          },
          "metadata": {
            "tags": []
          },
          "execution_count": 29
        }
      ]
    },
    {
      "cell_type": "code",
      "metadata": {
        "colab": {
          "base_uri": "https://localhost:8080/",
          "height": 536
        },
        "id": "lWzyrenSYTxg",
        "outputId": "9736aa89-6c33-458d-fbd6-a190c5ab5641"
      },
      "source": [
        "px = df.plot(x='Date',y='Close');\n",
        "px.set_xlabel(\"Date\")\n",
        "px.set_ylabel(\"close_price(USD)\");"
      ],
      "execution_count": 30,
      "outputs": [
        {
          "output_type": "display_data",
          "data": {
            "image/png": "[encoded data removed]",
            "text/plain": [
              "<Figure size 1008x576 with 1 Axes>"
            ]
          },
          "metadata": {
            "tags": []
          }
        }
      ]
    },
    {
      "cell_type": "markdown",
      "metadata": {
        "id": "2_F7RFPyajXt"
      },
      "source": [
        "YOU CAN SEE THAT PRICE OF DOGECOIN HAS PROGRESSED VERY UP AND UNTIL ELON MUSK **HOSTED** SNL"
      ]
    },
    {
      "cell_type": "markdown",
      "metadata": {
        "id": "kbrQo5Cla-Ss"
      },
      "source": [
        "***DATA PREPERATION***"
      ]
    },
    {
      "cell_type": "code",
      "metadata": {
        "id": "7hvhoGIzYT0p"
      },
      "source": [
        "#NORMALIZATION\n",
        "scaler=MinMaxScaler()\n",
        "close_price = df.Close.values.reshape(-1,1)\n",
        "scaled_close = scaler.fit_transform(close_price)"
      ],
      "execution_count": 31,
      "outputs": []
    },
    {
      "cell_type": "code",
      "metadata": {
        "colab": {
          "base_uri": "https://localhost:8080/"
        },
        "id": "DEo8ENMJYT3h",
        "outputId": "76a616ba-4712-40f2-dd50-d69c90980d31"
      },
      "source": [
        "scaled_close.shape"
      ],
      "execution_count": 32,
      "outputs": [
        {
          "output_type": "execute_result",
          "data": {
            "text/plain": [
              "(380, 1)"
            ]
          },
          "metadata": {
            "tags": []
          },
          "execution_count": 32
        }
      ]
    },
    {
      "cell_type": "code",
      "metadata": {
        "colab": {
          "base_uri": "https://localhost:8080/"
        },
        "id": "PQ5nnpiBeop7",
        "outputId": "18447ea9-fced-4aaf-f262-a1946323578c"
      },
      "source": [
        "#to check whether any value is NAN or not funct will return false or true\n",
        "np.isnan(scaled_close).any()"
      ],
      "execution_count": 33,
      "outputs": [
        {
          "output_type": "execute_result",
          "data": {
            "text/plain": [
              "True"
            ]
          },
          "metadata": {
            "tags": []
          },
          "execution_count": 33
        }
      ]
    },
    {
      "cell_type": "code",
      "metadata": {
        "colab": {
          "base_uri": "https://localhost:8080/",
          "height": 402
        },
        "id": "unrmd7P7eotg",
        "outputId": "c3f383ee-092d-48f7-ef0a-64b2ad93fd1d"
      },
      "source": [
        "df.dropna()"
      ],
      "execution_count": 34,
      "outputs": [
        {
          "output_type": "execute_result",
          "data": {
            "text/html": [
              "<div>\n",
              "<style scoped>\n",
              "    .dataframe tbody tr th:only-of-type {\n",
              "        vertical-align: middle;\n",
              "    }\n",
              "\n",
              "    .dataframe tbody tr th {\n",
              "        vertical-align: top;\n",
              "    }\n",
              "\n",
              "    .dataframe thead th {\n",
              "        text-align: right;\n",
              "    }\n",
              "</style>\n",
              "<table border=\"1\" class=\"dataframe\">\n",
              "  <thead>\n",
              "    <tr style=\"text-align: right;\">\n",
              "      <th></th>\n",
              "      <th>Date</th>\n",
              "      <th>Open</th>\n",
              "      <th>High</th>\n",
              "      <th>Low</th>\n",
              "      <th>Close</th>\n",
              "      <th>Adj Close</th>\n",
              "      <th>Volume</th>\n",
              "    </tr>\n",
              "  </thead>\n",
              "  <tbody>\n",
              "    <tr>\n",
              "      <th>0</th>\n",
              "      <td>2020-05-01</td>\n",
              "      <td>0.002444</td>\n",
              "      <td>0.002559</td>\n",
              "      <td>0.002441</td>\n",
              "      <td>0.002494</td>\n",
              "      <td>0.002494</td>\n",
              "      <td>2.828870e+08</td>\n",
              "    </tr>\n",
              "    <tr>\n",
              "      <th>1</th>\n",
              "      <td>2020-05-02</td>\n",
              "      <td>0.002495</td>\n",
              "      <td>0.002553</td>\n",
              "      <td>0.002473</td>\n",
              "      <td>0.002549</td>\n",
              "      <td>0.002549</td>\n",
              "      <td>2.691553e+08</td>\n",
              "    </tr>\n",
              "    <tr>\n",
              "      <th>2</th>\n",
              "      <td>2020-05-03</td>\n",
              "      <td>0.002548</td>\n",
              "      <td>0.002583</td>\n",
              "      <td>0.002480</td>\n",
              "      <td>0.002510</td>\n",
              "      <td>0.002510</td>\n",
              "      <td>2.651569e+08</td>\n",
              "    </tr>\n",
              "    <tr>\n",
              "      <th>3</th>\n",
              "      <td>2020-05-04</td>\n",
              "      <td>0.002511</td>\n",
              "      <td>0.002519</td>\n",
              "      <td>0.002389</td>\n",
              "      <td>0.002481</td>\n",
              "      <td>0.002481</td>\n",
              "      <td>2.614543e+08</td>\n",
              "    </tr>\n",
              "    <tr>\n",
              "      <th>4</th>\n",
              "      <td>2020-05-05</td>\n",
              "      <td>0.002481</td>\n",
              "      <td>0.002521</td>\n",
              "      <td>0.002449</td>\n",
              "      <td>0.002484</td>\n",
              "      <td>0.002484</td>\n",
              "      <td>2.458611e+08</td>\n",
              "    </tr>\n",
              "    <tr>\n",
              "      <th>...</th>\n",
              "      <td>...</td>\n",
              "      <td>...</td>\n",
              "      <td>...</td>\n",
              "      <td>...</td>\n",
              "      <td>...</td>\n",
              "      <td>...</td>\n",
              "      <td>...</td>\n",
              "    </tr>\n",
              "    <tr>\n",
              "      <th>375</th>\n",
              "      <td>2021-05-11</td>\n",
              "      <td>0.450488</td>\n",
              "      <td>0.546651</td>\n",
              "      <td>0.445034</td>\n",
              "      <td>0.495231</td>\n",
              "      <td>0.495231</td>\n",
              "      <td>1.456698e+10</td>\n",
              "    </tr>\n",
              "    <tr>\n",
              "      <th>376</th>\n",
              "      <td>2021-05-12</td>\n",
              "      <td>0.493742</td>\n",
              "      <td>0.519975</td>\n",
              "      <td>0.385376</td>\n",
              "      <td>0.385376</td>\n",
              "      <td>0.385376</td>\n",
              "      <td>8.621338e+09</td>\n",
              "    </tr>\n",
              "    <tr>\n",
              "      <th>377</th>\n",
              "      <td>2021-05-13</td>\n",
              "      <td>0.392176</td>\n",
              "      <td>0.519461</td>\n",
              "      <td>0.357175</td>\n",
              "      <td>0.490374</td>\n",
              "      <td>0.490374</td>\n",
              "      <td>1.866317e+10</td>\n",
              "    </tr>\n",
              "    <tr>\n",
              "      <th>378</th>\n",
              "      <td>2021-05-14</td>\n",
              "      <td>0.487070</td>\n",
              "      <td>0.589690</td>\n",
              "      <td>0.464622</td>\n",
              "      <td>0.559604</td>\n",
              "      <td>0.559604</td>\n",
              "      <td>2.046618e+10</td>\n",
              "    </tr>\n",
              "    <tr>\n",
              "      <th>379</th>\n",
              "      <td>2021-05-15</td>\n",
              "      <td>0.556366</td>\n",
              "      <td>0.561477</td>\n",
              "      <td>0.506307</td>\n",
              "      <td>0.520853</td>\n",
              "      <td>0.520853</td>\n",
              "      <td>1.438274e+10</td>\n",
              "    </tr>\n",
              "  </tbody>\n",
              "</table>\n",
              "<p>377 rows × 7 columns</p>\n",
              "</div>"
            ],
            "text/plain": [
              "          Date      Open      High       Low     Close  Adj Close        Volume\n",
              "0   2020-05-01  0.002444  0.002559  0.002441  0.002494   0.002494  2.828870e+08\n",
              "1   2020-05-02  0.002495  0.002553  0.002473  0.002549   0.002549  2.691553e+08\n",
              "2   2020-05-03  0.002548  0.002583  0.002480  0.002510   0.002510  2.651569e+08\n",
              "3   2020-05-04  0.002511  0.002519  0.002389  0.002481   0.002481  2.614543e+08\n",
              "4   2020-05-05  0.002481  0.002521  0.002449  0.002484   0.002484  2.458611e+08\n",
              "..         ...       ...       ...       ...       ...        ...           ...\n",
              "375 2021-05-11  0.450488  0.546651  0.445034  0.495231   0.495231  1.456698e+10\n",
              "376 2021-05-12  0.493742  0.519975  0.385376  0.385376   0.385376  8.621338e+09\n",
              "377 2021-05-13  0.392176  0.519461  0.357175  0.490374   0.490374  1.866317e+10\n",
              "378 2021-05-14  0.487070  0.589690  0.464622  0.559604   0.559604  2.046618e+10\n",
              "379 2021-05-15  0.556366  0.561477  0.506307  0.520853   0.520853  1.438274e+10\n",
              "\n",
              "[377 rows x 7 columns]"
            ]
          },
          "metadata": {
            "tags": []
          },
          "execution_count": 34
        }
      ]
    },
    {
      "cell_type": "markdown",
      "metadata": {
        "id": "ncLeuFjIlNVy"
      },
      "source": [
        "PREPROCESSING"
      ]
    },
    {
      "cell_type": "code",
      "metadata": {
        "id": "j4oaGj8meowy"
      },
      "source": [
        "SEQ_LEN=100\n",
        "def to_sequences(data, seq_len):\n",
        "  d=[]\n",
        "  for index in range(len(data)-seq_len):\n",
        "    d.append(data[index: index + seq_len])\n",
        "\n",
        "  return np.array(d)\n",
        "\n",
        "def preprocess(data_raw, seq_len,train_split):\n",
        "  data = to_sequences(data_raw, seq_len) \n",
        "  num_train = int(train_split*data.shape[0])\n",
        "  \n",
        "  X_train = data[:num_train,:-1,:] \n",
        "  y_train  = data[:num_train,-1,:]\n",
        "  X_test  = data[num_train:,:-1,:]\n",
        "  y_test  = data[num_train:,-1,:]\n",
        "  return X_train ,y_train, X_test, y_test\n",
        "\n",
        "X_train ,y_train, X_test, y_test=preprocess(scaled_close, SEQ_LEN,train_split=0.95) "
      ],
      "execution_count": 35,
      "outputs": []
    },
    {
      "cell_type": "code",
      "metadata": {
        "id": "ULlsd_gteo0Z",
        "colab": {
          "base_uri": "https://localhost:8080/"
        },
        "outputId": "298047b5-c1ec-4a1f-dff7-50bda7a1f237"
      },
      "source": [
        "X_train.shape"
      ],
      "execution_count": 36,
      "outputs": [
        {
          "output_type": "execute_result",
          "data": {
            "text/plain": [
              "(266, 99, 1)"
            ]
          },
          "metadata": {
            "tags": []
          },
          "execution_count": 36
        }
      ]
    },
    {
      "cell_type": "code",
      "metadata": {
        "id": "GT2KoVLBeo5c",
        "colab": {
          "base_uri": "https://localhost:8080/"
        },
        "outputId": "e7cb986b-6285-4c87-e4a8-96383b884584"
      },
      "source": [
        "\n",
        "y_train.shape\n"
      ],
      "execution_count": 37,
      "outputs": [
        {
          "output_type": "execute_result",
          "data": {
            "text/plain": [
              "(266, 1)"
            ]
          },
          "metadata": {
            "tags": []
          },
          "execution_count": 37
        }
      ]
    },
    {
      "cell_type": "code",
      "metadata": {
        "id": "OjCsjrrReo8J",
        "colab": {
          "base_uri": "https://localhost:8080/"
        },
        "outputId": "73e17d4e-1d73-4a6d-b90e-027f5b6a573f"
      },
      "source": [
        "X_test.shape\n"
      ],
      "execution_count": 38,
      "outputs": [
        {
          "output_type": "execute_result",
          "data": {
            "text/plain": [
              "(14, 99, 1)"
            ]
          },
          "metadata": {
            "tags": []
          },
          "execution_count": 38
        }
      ]
    },
    {
      "cell_type": "markdown",
      "metadata": {
        "id": "gCjREP7ATxjo"
      },
      "source": [
        "MODEL"
      ]
    },
    {
      "cell_type": "code",
      "metadata": {
        "id": "NlJyfUfBTWy9"
      },
      "source": [
        "DROPOUT=0.2\n",
        "WINDOW_SIZE= SEQ_LEN-1\n",
        "model = keras.Sequential()\n",
        "model.add(Bidirectional(CuDNNLSTM(WINDOW_SIZE,return_sequences=True),input_shape=(WINDOW_SIZE,X_train.shape[-1])))\n",
        "model.add(Dropout(rate=DROPOUT))\n",
        "model.add(Bidirectional(CuDNNLSTM((WINDOW_SIZE*2),return_sequences=True)))\n",
        "model.add(Dropout(rate=DROPOUT))\n",
        "model.add(Bidirectional(CuDNNLSTM(WINDOW_SIZE,return_sequences=False)))\n",
        "model.add(Dense(units=1))\n",
        "model.add(Activation('linear'))\n"
      ],
      "execution_count": 39,
      "outputs": []
    },
    {
      "cell_type": "code",
      "metadata": {
        "id": "1vl-YtqGTW2V"
      },
      "source": [
        "#TRAINING\n",
        "model.compile(\n",
        "    loss='mean_squared_error',\n",
        "    optimizer='adam'\n",
        ")"
      ],
      "execution_count": 40,
      "outputs": []
    },
    {
      "cell_type": "code",
      "metadata": {
        "id": "T9asU3v0TW7j",
        "colab": {
          "base_uri": "https://localhost:8080/"
        },
        "outputId": "effbe86c-9b8f-498e-e24e-acfb713be28c"
      },
      "source": [
        "BATCH_SIZE = 64\n",
        "history = model.fit(\n",
        "    X_train,\n",
        "    y_train,\n",
        "    epochs=50,\n",
        "    batch_size=BATCH_SIZE,\n",
        "    shuffle=False,\n",
        "    validation_split=0.1\n",
        ")"
      ],
      "execution_count": 41,
      "outputs": [
        {
          "output_type": "stream",
          "text": [
            "Epoch 1/50\n",
            "4/4 [==============================] - 4s 362ms/step - loss: nan - val_loss: nan\n",
            "Epoch 2/50\n",
            "4/4 [==============================] - 0s 54ms/step - loss: nan - val_loss: nan\n",
            "Epoch 3/50\n",
            "4/4 [==============================] - 0s 58ms/step - loss: nan - val_loss: nan\n",
            "Epoch 4/50\n",
            "4/4 [==============================] - 0s 55ms/step - loss: nan - val_loss: nan\n",
            "Epoch 5/50\n",
            "4/4 [==============================] - 0s 54ms/step - loss: nan - val_loss: nan\n",
            "Epoch 6/50\n",
            "4/4 [==============================] - 0s 56ms/step - loss: nan - val_loss: nan\n",
            "Epoch 7/50\n",
            "4/4 [==============================] - 0s 55ms/step - loss: nan - val_loss: nan\n",
            "Epoch 8/50\n",
            "4/4 [==============================] - 0s 55ms/step - loss: nan - val_loss: nan\n",
            "Epoch 9/50\n",
            "4/4 [==============================] - 0s 58ms/step - loss: nan - val_loss: nan\n",
            "Epoch 10/50\n",
            "4/4 [==============================] - 0s 57ms/step - loss: nan - val_loss: nan\n",
            "Epoch 11/50\n",
            "4/4 [==============================] - 0s 54ms/step - loss: nan - val_loss: nan\n",
            "Epoch 12/50\n",
            "4/4 [==============================] - 0s 53ms/step - loss: nan - val_loss: nan\n",
            "Epoch 13/50\n",
            "4/4 [==============================] - 0s 54ms/step - loss: nan - val_loss: nan\n",
            "Epoch 14/50\n",
            "4/4 [==============================] - 0s 53ms/step - loss: nan - val_loss: nan\n",
            "Epoch 15/50\n",
            "4/4 [==============================] - 0s 54ms/step - loss: nan - val_loss: nan\n",
            "Epoch 16/50\n",
            "4/4 [==============================] - 0s 57ms/step - loss: nan - val_loss: nan\n",
            "Epoch 17/50\n",
            "4/4 [==============================] - 0s 54ms/step - loss: nan - val_loss: nan\n",
            "Epoch 18/50\n",
            "4/4 [==============================] - 0s 56ms/step - loss: nan - val_loss: nan\n",
            "Epoch 19/50\n",
            "4/4 [==============================] - 0s 56ms/step - loss: nan - val_loss: nan\n",
            "Epoch 20/50\n",
            "4/4 [==============================] - 0s 54ms/step - loss: nan - val_loss: nan\n",
            "Epoch 21/50\n",
            "4/4 [==============================] - 0s 56ms/step - loss: nan - val_loss: nan\n",
            "Epoch 22/50\n",
            "4/4 [==============================] - 0s 54ms/step - loss: nan - val_loss: nan\n",
            "Epoch 23/50\n",
            "4/4 [==============================] - 0s 55ms/step - loss: nan - val_loss: nan\n",
            "Epoch 24/50\n",
            "4/4 [==============================] - 0s 54ms/step - loss: nan - val_loss: nan\n",
            "Epoch 25/50\n",
            "4/4 [==============================] - 0s 54ms/step - loss: nan - val_loss: nan\n",
            "Epoch 26/50\n",
            "4/4 [==============================] - 0s 57ms/step - loss: nan - val_loss: nan\n",
            "Epoch 27/50\n",
            "4/4 [==============================] - 0s 53ms/step - loss: nan - val_loss: nan\n",
            "Epoch 28/50\n",
            "4/4 [==============================] - 0s 53ms/step - loss: nan - val_loss: nan\n",
            "Epoch 29/50\n",
            "4/4 [==============================] - 0s 54ms/step - loss: nan - val_loss: nan\n",
            "Epoch 30/50\n",
            "4/4 [==============================] - 0s 53ms/step - loss: nan - val_loss: nan\n",
            "Epoch 31/50\n",
            "4/4 [==============================] - 0s 54ms/step - loss: nan - val_loss: nan\n",
            "Epoch 32/50\n",
            "4/4 [==============================] - 0s 55ms/step - loss: nan - val_loss: nan\n",
            "Epoch 33/50\n",
            "4/4 [==============================] - 0s 53ms/step - loss: nan - val_loss: nan\n",
            "Epoch 34/50\n",
            "4/4 [==============================] - 0s 55ms/step - loss: nan - val_loss: nan\n",
            "Epoch 35/50\n",
            "4/4 [==============================] - 0s 57ms/step - loss: nan - val_loss: nan\n",
            "Epoch 36/50\n",
            "4/4 [==============================] - 0s 54ms/step - loss: nan - val_loss: nan\n",
            "Epoch 37/50\n",
            "4/4 [==============================] - 0s 56ms/step - loss: nan - val_loss: nan\n",
            "Epoch 38/50\n",
            "4/4 [==============================] - 0s 56ms/step - loss: nan - val_loss: nan\n",
            "Epoch 39/50\n",
            "4/4 [==============================] - 0s 56ms/step - loss: nan - val_loss: nan\n",
            "Epoch 40/50\n",
            "4/4 [==============================] - 0s 53ms/step - loss: nan - val_loss: nan\n",
            "Epoch 41/50\n",
            "4/4 [==============================] - 0s 53ms/step - loss: nan - val_loss: nan\n",
            "Epoch 42/50\n",
            "4/4 [==============================] - 0s 53ms/step - loss: nan - val_loss: nan\n",
            "Epoch 43/50\n",
            "4/4 [==============================] - 0s 55ms/step - loss: nan - val_loss: nan\n",
            "Epoch 44/50\n",
            "4/4 [==============================] - 0s 54ms/step - loss: nan - val_loss: nan\n",
            "Epoch 45/50\n",
            "4/4 [==============================] - 0s 53ms/step - loss: nan - val_loss: nan\n",
            "Epoch 46/50\n",
            "4/4 [==============================] - 0s 54ms/step - loss: nan - val_loss: nan\n",
            "Epoch 47/50\n",
            "4/4 [==============================] - 0s 56ms/step - loss: nan - val_loss: nan\n",
            "Epoch 48/50\n",
            "4/4 [==============================] - 0s 56ms/step - loss: nan - val_loss: nan\n",
            "Epoch 49/50\n",
            "4/4 [==============================] - 0s 55ms/step - loss: nan - val_loss: nan\n",
            "Epoch 50/50\n",
            "4/4 [==============================] - 0s 53ms/step - loss: nan - val_loss: nan\n"
          ],
          "name": "stdout"
        }
      ]
    },
    {
      "cell_type": "code",
      "metadata": {
        "colab": {
          "base_uri": "https://localhost:8080/"
        },
        "id": "wrQ9DXswpc31",
        "outputId": "e1d81cb7-0119-4203-82b1-819d28604125"
      },
      "source": [
        "model.evaluate(X_test,y_test)"
      ],
      "execution_count": 42,
      "outputs": [
        {
          "output_type": "stream",
          "text": [
            "1/1 [==============================] - 0s 86ms/step - loss: nan\n"
          ],
          "name": "stdout"
        },
        {
          "output_type": "execute_result",
          "data": {
            "text/plain": [
              "nan"
            ]
          },
          "metadata": {
            "tags": []
          },
          "execution_count": 42
        }
      ]
    },
    {
      "cell_type": "code",
      "metadata": {
        "colab": {
          "base_uri": "https://localhost:8080/",
          "height": 535
        },
        "id": "f34Jf3vlpjAq",
        "outputId": "535d3926-6cc3-4802-de09-e99246abd22b"
      },
      "source": [
        "plt.plot(history.history['loss'])\n",
        "plt.plot(history.history['val_loss'])\n",
        "plt.title('model loss')\n",
        "plt.ylabel('loss')\n",
        "plt.xlabel('epoch')\n",
        "plt.legend(['train','test'],loc = 'upper left')\n",
        "plt.show()"
      ],
      "execution_count": 43,
      "outputs": [
        {
          "output_type": "display_data",
          "data": {
            "image/png": "[encoded data removed]",
            "text/plain": [
              "<Figure size 1008x576 with 1 Axes>"
            ]
          },
          "metadata": {
            "tags": []
          }
        }
      ]
    },
    {
      "cell_type": "code",
      "metadata": {
        "colab": {
          "base_uri": "https://localhost:8080/",
          "height": 535
        },
        "id": "Ll3UtXaPqKoM",
        "outputId": "7e1a9149-51ac-4c4f-ab10-94db040bf47d"
      },
      "source": [
        "#PREDICTION\n",
        "y_hat=model.predict(X_test)\n",
        "y_test_inv=scaler.inverse_transform(y_test)\n",
        "y_hat_inv= scaler.inverse_transform(y_hat)\n",
        "plt.plot(y_test_inv,label=\"Actual p\",color='blue')\n",
        "plt.plot(y_hat_inv,label=\"predicted p\",color='red')\n",
        "plt.title('DOGE COIN P PREDICTION')\n",
        "plt.xlabel('[days]')\n",
        "plt.ylabel('price')\n",
        "plt.legend(loc='best')\n",
        "plt.show();"
      ],
      "execution_count": 44,
      "outputs": [
        {
          "output_type": "display_data",
          "data": {
            "image/png": "[encoded data removed]",
            "text/plain": [
              "<Figure size 1008x576 with 1 Axes>"
            ]
          },
          "metadata": {
            "tags": []
          }
        }
      ]
    }
  ]
}
